{
  "nbformat": 4,
  "nbformat_minor": 0,
  "metadata": {
    "colab": {
      "provenance": [],
      "authorship_tag": "ABX9TyNXU5ZnCcxuH9LnneBl0vir",
      "include_colab_link": true
    },
    "kernelspec": {
      "name": "python3",
      "display_name": "Python 3"
    },
    "language_info": {
      "name": "python"
    }
  },
  "cells": [
    {
      "cell_type": "markdown",
      "metadata": {
        "id": "view-in-github",
        "colab_type": "text"
      },
      "source": [
        "<a href=\"https://colab.research.google.com/github/zohafatimadev/ACIP/blob/main/Week2.ipynb\" target=\"_parent\"><img src=\"https://colab.research.google.com/assets/colab-badge.svg\" alt=\"Open In Colab\"/></a>"
      ]
    },
    {
      "cell_type": "code",
      "execution_count": null,
      "metadata": {
        "colab": {
          "base_uri": "https://localhost:8080/"
        },
        "id": "fib1wkHQKNOo",
        "outputId": "e8636dc8-661f-479d-f10d-66f81da52051"
      },
      "outputs": [
        {
          "output_type": "stream",
          "name": "stdout",
          "text": [
            "a    1\n",
            "x    4\n",
            "c    9\n",
            "2    6\n",
            "e    7\n",
            "dtype: int64\n"
          ]
        }
      ],
      "source": [
        "import pandas as pd\n",
        "\n",
        "index = ['a', 'x', 'c', '2', 'e']\n",
        "data = [1, 4, 9, 6, 7]\n",
        "\n",
        "series = pd.Series(data, index=index, dtype=int)\n",
        "print(series)\n"
      ]
    },
    {
      "cell_type": "code",
      "source": [
        "import pandas as pd\n",
        "\n",
        "data = {'Bilal': 42, 'Ayesha': 38, 'Hadia': 39}\n",
        "\n",
        "series = pd.Series(data, dtype=int)\n",
        "print(series)\n"
      ],
      "metadata": {
        "colab": {
          "base_uri": "https://localhost:8080/"
        },
        "id": "9dZD4XsoK1v_",
        "outputId": "bfe07fa3-3c05-4b4e-8aa5-880b1a7b03a5"
      },
      "execution_count": null,
      "outputs": [
        {
          "output_type": "stream",
          "name": "stdout",
          "text": [
            "Bilal     42\n",
            "Ayesha    38\n",
            "Hadia     39\n",
            "dtype: int64\n"
          ]
        }
      ]
    },
    {
      "cell_type": "code",
      "source": [
        "import pandas as pd\n",
        "\n",
        "data = {\n",
        "    'day': ['1/1/2017', '1/2/2017', '1/3/2017', '1/4/2017', '1/5/2017', '1/6/2017'],\n",
        "    'temperature': [32, 35, 28, 24, 32, 31],\n",
        "    'windspeed': [6, 7, 2, 7, 4, 2],\n",
        "    'event': ['Rain', 'Sunny', 'Snow', 'Snow', 'Rain', 'Sunny']\n",
        "}\n",
        "\n",
        "df = pd.DataFrame(data)\n",
        "print(df)\n"
      ],
      "metadata": {
        "id": "WHXNWbhzRHUu",
        "outputId": "68defe4d-dd8a-47a6-f371-00405c4fa083",
        "colab": {
          "base_uri": "https://localhost:8080/"
        }
      },
      "execution_count": null,
      "outputs": [
        {
          "output_type": "stream",
          "name": "stdout",
          "text": [
            "        day  temperature  windspeed  event\n",
            "0  1/1/2017           32          6   Rain\n",
            "1  1/2/2017           35          7  Sunny\n",
            "2  1/3/2017           28          2   Snow\n",
            "3  1/4/2017           24          7   Snow\n",
            "4  1/5/2017           32          4   Rain\n",
            "5  1/6/2017           31          2  Sunny\n"
          ]
        }
      ]
    },
    {
      "cell_type": "code",
      "source": [
        "import pandas as pd\n",
        "\n",
        "data = {\n",
        "    'day': ['1/1/2017', '1/2/2017', '1/3/2017', '1/4/2017', '1/5/2017', '1/6/2017'],\n",
        "    'temperature': [32, 35, 28, 24, 32, 31],\n",
        "    'windspeed': [6, 7, 2, 7, 4, 2],\n",
        "    'event': ['Rain', 'Sunny', 'Snow', 'Snow', 'Rain', 'Sunny']\n",
        "}\n",
        "\n",
        "index = ['a', 'b', 'c', 'd', 'e', 'f']\n",
        "\n",
        "df = pd.DataFrame(data, index=index)\n",
        "print(df)\n"
      ],
      "metadata": {
        "colab": {
          "base_uri": "https://localhost:8080/"
        },
        "id": "Nk7nACMo-6rn",
        "outputId": "0faa928d-793a-4615-bc53-a0d32ca2ee8f"
      },
      "execution_count": 1,
      "outputs": [
        {
          "output_type": "stream",
          "name": "stdout",
          "text": [
            "        day  temperature  windspeed  event\n",
            "a  1/1/2017           32          6   Rain\n",
            "b  1/2/2017           35          7  Sunny\n",
            "c  1/3/2017           28          2   Snow\n",
            "d  1/4/2017           24          7   Snow\n",
            "e  1/5/2017           32          4   Rain\n",
            "f  1/6/2017           31          2  Sunny\n"
          ]
        }
      ]
    },
    {
      "cell_type": "code",
      "source": [
        "import pandas as pd\n",
        "\n",
        "data = {\n",
        "    'day': ['1/1/2017', '1/2/2017', '1/3/2017', '1/4/2017', '1/5/2017', '1/6/2017'],\n",
        "    'temperature': [32, 35, 28, 24, 32, 31],\n",
        "    'windspeed': [6, 7, 2, 7, 4, 2],\n",
        "    'event': ['Rain', 'Sunny', 'Snow', 'Snow', 'Rain', 'Sunny']\n",
        "}\n",
        "\n",
        "index = ['a', 'b', 'c', 'd', 'e', 'f']\n",
        "\n",
        "df = pd.DataFrame(data, index=index)\n",
        "\n",
        "# Calculate mean, maximum, and minimum for the \"temperature\" column\n",
        "temperature_stats = df['temperature'].agg(['mean', 'max', 'min'])\n",
        "\n",
        "print(\"Mean temperature:\", temperature_stats['mean'])\n",
        "print(\"Maximum temperature:\", temperature_stats['max'])\n",
        "print(\"Minimum temperature:\", temperature_stats['min'])\n"
      ],
      "metadata": {
        "colab": {
          "base_uri": "https://localhost:8080/"
        },
        "id": "IM4vtVBH_GTp",
        "outputId": "d7d18a12-e7e8-4bed-91ee-1594d8669c38"
      },
      "execution_count": 2,
      "outputs": [
        {
          "output_type": "stream",
          "name": "stdout",
          "text": [
            "Mean temperature: 30.333333333333332\n",
            "Maximum temperature: 35.0\n",
            "Minimum temperature: 24.0\n"
          ]
        }
      ]
    },
    {
      "cell_type": "code",
      "source": [
        "import pandas as pd\n",
        "\n",
        "# Create DataFrame\n",
        "data = {\n",
        "    'Name': ['Sonia', 'Bilal', 'Hifza', 'Kabir', 'Jazim'],\n",
        "    'Age': [27, 24, 22, 32, 23],\n",
        "    'Address': ['Lahore', 'Karachi', 'Sialkot', 'Peshawar', 'Lahore'],\n",
        "    'Qualification': ['Msc', 'MA', 'MCA', 'Phd', 'BSC']\n",
        "}\n",
        "\n",
        "AICP_DF = pd.DataFrame(data)\n",
        "\n",
        "# Save 'Name' and 'Qualification' columns to df1\n",
        "df1 = AICP_DF[['Name', 'Qualification']]\n",
        "\n",
        "# Add a new column 'Height'\n",
        "AICP_DF['Height'] = [5.1, 6.2, 5.1, 5.2, 5.1]\n",
        "\n",
        "# Set 'Name' column as index\n",
        "AICP_DF.set_index('Name', inplace=True)\n",
        "\n",
        "# Retrieve row with index 'Hifza'\n",
        "row_hifza = AICP_DF.loc['Hifza']\n",
        "\n",
        "# Retrieve row with index 3\n",
        "row_3 = AICP_DF.iloc[3]\n",
        "\n",
        "# Drop row with index 'Bilal'\n",
        "AICP_DF.drop(index='Bilal', inplace=True)\n",
        "\n",
        "print(\"AICP_DF:\")\n",
        "print(AICP_DF)\n",
        "print(\"\\ndf1:\")\n",
        "print(df1)\n",
        "print(\"\\nRow with index 'Hifza':\")\n",
        "print(row_hifza)\n",
        "print(\"\\nRow with index 3:\")\n",
        "print(row_3)\n"
      ],
      "metadata": {
        "colab": {
          "base_uri": "https://localhost:8080/"
        },
        "id": "NmACd7GIUtXV",
        "outputId": "76832d4a-50c8-4228-e13f-ec3568adce14"
      },
      "execution_count": 8,
      "outputs": [
        {
          "output_type": "stream",
          "name": "stdout",
          "text": [
            "AICP_DF:\n",
            "       Age   Address Qualification  Height\n",
            "Name                                      \n",
            "Sonia   27    Lahore           Msc     5.1\n",
            "Hifza   22   Sialkot           MCA     5.1\n",
            "Kabir   32  Peshawar           Phd     5.2\n",
            "Jazim   23    Lahore           BSC     5.1\n",
            "\n",
            "df1:\n",
            "    Name Qualification\n",
            "0  Sonia           Msc\n",
            "1  Bilal            MA\n",
            "2  Hifza           MCA\n",
            "3  Kabir           Phd\n",
            "4  Jazim           BSC\n",
            "\n",
            "Row with index 'Hifza':\n",
            "Age                   22\n",
            "Address          Sialkot\n",
            "Qualification        MCA\n",
            "Height               5.1\n",
            "Name: Hifza, dtype: object\n",
            "\n",
            "Row with index 3:\n",
            "Age                    32\n",
            "Address          Peshawar\n",
            "Qualification         Phd\n",
            "Height                5.2\n",
            "Name: Kabir, dtype: object\n"
          ]
        }
      ]
    }
  ]
}