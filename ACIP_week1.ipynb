{
  "nbformat": 4,
  "nbformat_minor": 0,
  "metadata": {
    "colab": {
      "provenance": [],
      "mount_file_id": "132Apt4UrNeI_FzfbNeIzfPWtqKpFHTuy",
      "authorship_tag": "ABX9TyPdQtOdyLSaFwEDJ0g5xJBT",
      "include_colab_link": true
    },
    "kernelspec": {
      "name": "python3",
      "display_name": "Python 3"
    },
    "language_info": {
      "name": "python"
    }
  },
  "cells": [
    {
      "cell_type": "markdown",
      "metadata": {
        "id": "view-in-github",
        "colab_type": "text"
      },
      "source": [
        "<a href=\"https://colab.research.google.com/github/zohafatimadev/ACIP/blob/main/ACIP_week1.ipynb\" target=\"_parent\"><img src=\"https://colab.research.google.com/assets/colab-badge.svg\" alt=\"Open In Colab\"/></a>"
      ]
    },
    {
      "cell_type": "markdown",
      "source": [
        "Question 1\n",
        "\n",
        "\n",
        "Write a NumPy program to create an array of all even integers from 30 to 70."
      ],
      "metadata": {
        "id": "aL5LH6dadMwp"
      }
    },
    {
      "cell_type": "code",
      "source": [
        "import numpy as np\n",
        "\n",
        "even_array = np.arange(30, 72, 2)\n",
        "print(even_array)\n"
      ],
      "metadata": {
        "colab": {
          "base_uri": "https://localhost:8080/"
        },
        "id": "Fx8dexkaZc9G",
        "outputId": "6fd1c13d-9445-4199-b8e2-e94046e1e552"
      },
      "execution_count": 10,
      "outputs": [
        {
          "output_type": "stream",
          "name": "stdout",
          "text": [
            "[30 32 34 36 38 40 42 44 46 48 50 52 54 56 58 60 62 64 66 68 70]\n"
          ]
        }
      ]
    },
    {
      "cell_type": "markdown",
      "source": [
        "Question 2\n",
        "\n",
        "Write a NumPy program to generate an array of 15 random numbers from a standard normal distribution."
      ],
      "metadata": {
        "id": "7HFJ0Xredsus"
      }
    },
    {
      "cell_type": "code",
      "source": [
        "import numpy as np\n",
        "\n",
        "random_array = np.random.randn(15)\n",
        "print(random_array)\n"
      ],
      "metadata": {
        "colab": {
          "base_uri": "https://localhost:8080/"
        },
        "id": "FRIh0qsNZf7s",
        "outputId": "6c488e7b-a3a7-4c46-a798-a99c7399a7ea"
      },
      "execution_count": 4,
      "outputs": [
        {
          "output_type": "stream",
          "name": "stdout",
          "text": [
            "[-0.04826575 -0.31710548  0.52655599  1.38739656  0.06227877  0.0542635\n",
            "  0.93943631 -0.05741296  0.50326878 -0.18057251 -0.91410557  0.3271262\n",
            " -0.60079198  0.49620984  1.40825371]\n"
          ]
        }
      ]
    },
    {
      "cell_type": "markdown",
      "source": [
        "Question 3\n",
        "\n",
        "How to compute the cross-product of two matrices in NumPy?"
      ],
      "metadata": {
        "id": "1BGtEjLtd0oc"
      }
    },
    {
      "cell_type": "code",
      "source": [
        "import numpy as np\n",
        "\n",
        "# Assuming A and B are two matrices\n",
        "A = np.random.rand(3, 3)\n",
        "B = np.random.rand(3, 3)\n",
        "\n",
        "cross_product = np.cross(A, B)\n",
        "print(cross_product)\n"
      ],
      "metadata": {
        "colab": {
          "base_uri": "https://localhost:8080/"
        },
        "id": "bWJkt2sBZkjh",
        "outputId": "3e48df44-c398-494f-e61c-e226d3d10330"
      },
      "execution_count": 5,
      "outputs": [
        {
          "output_type": "stream",
          "name": "stdout",
          "text": [
            "[[ 0.24487084  0.61484856 -0.32153652]\n",
            " [-0.38697887  0.29875912  0.03337454]\n",
            " [-0.34211734  0.1867381   0.29930705]]\n"
          ]
        }
      ]
    },
    {
      "cell_type": "markdown",
      "source": [
        "Question 4\n",
        "\n",
        "How to compute the determinant of an array using NumPy?"
      ],
      "metadata": {
        "id": "dnFzhHX-eARR"
      }
    },
    {
      "cell_type": "code",
      "source": [
        "import numpy as np\n",
        "\n",
        "# Assuming mat is the matrix\n",
        "mat = np.random.rand(3, 3)\n",
        "\n",
        "determinant = np.linalg.det(mat)\n",
        "print(determinant)\n"
      ],
      "metadata": {
        "colab": {
          "base_uri": "https://localhost:8080/"
        },
        "id": "z3AdiHg5ZsrV",
        "outputId": "c1ca3c4e-c1c8-4d3e-cf2e-c240f4c418d9"
      },
      "execution_count": 6,
      "outputs": [
        {
          "output_type": "stream",
          "name": "stdout",
          "text": [
            "0.00822752690388388\n"
          ]
        }
      ]
    },
    {
      "cell_type": "markdown",
      "source": [
        "Question 5\n",
        "\n",
        "How to create a 3x3x3 array with random values using NumPy?"
      ],
      "metadata": {
        "id": "4psDXw40efKB"
      }
    },
    {
      "cell_type": "code",
      "source": [
        "import numpy as np\n",
        "\n",
        "random_3d_array = np.random.rand(3, 3, 3)\n",
        "print(random_3d_array)\n"
      ],
      "metadata": {
        "colab": {
          "base_uri": "https://localhost:8080/"
        },
        "id": "93nEB1JUZujo",
        "outputId": "dbb26e59-2f6e-449a-df62-0fb7704c5125"
      },
      "execution_count": 7,
      "outputs": [
        {
          "output_type": "stream",
          "name": "stdout",
          "text": [
            "[[[0.56429836 0.27365128 0.9113552 ]\n",
            "  [0.863845   0.55908095 0.08135385]\n",
            "  [0.41320194 0.54150873 0.11416116]]\n",
            "\n",
            " [[0.32512374 0.7313884  0.11334836]\n",
            "  [0.62809551 0.24694547 0.50391748]\n",
            "  [0.45758133 0.75602256 0.94298822]]\n",
            "\n",
            " [[0.73050803 0.10398222 0.45146018]\n",
            "  [0.47935773 0.53048418 0.82252432]\n",
            "  [0.85218257 0.6906599  0.48884044]]]\n"
          ]
        }
      ]
    },
    {
      "cell_type": "markdown",
      "source": [
        "Question 6\n",
        "\n",
        "How to create a 5x5 array with random values and find the minimum and maximum values using NumPy?"
      ],
      "metadata": {
        "id": "jYuirhkHeopV"
      }
    },
    {
      "cell_type": "code",
      "source": [
        "import numpy as np\n",
        "\n",
        "random_5x5_array = np.random.rand(5, 5)\n",
        "min_value = np.min(random_5x5_array)\n",
        "max_value = np.max(random_5x5_array)\n",
        "\n",
        "print(\"Minimum value:\", min_value)\n",
        "print(\"Maximum value:\", max_value)\n"
      ],
      "metadata": {
        "colab": {
          "base_uri": "https://localhost:8080/"
        },
        "id": "1N6Vf4U1ZzK7",
        "outputId": "82dcdf91-5388-4929-cf96-cf892264f385"
      },
      "execution_count": 8,
      "outputs": [
        {
          "output_type": "stream",
          "name": "stdout",
          "text": [
            "Minimum value: 0.025308412218079668\n",
            "Maximum value: 0.9521290303133434\n"
          ]
        }
      ]
    },
    {
      "cell_type": "markdown",
      "source": [
        "Question 7\n",
        "\n",
        "How to compute the mean, standard deviation, and variance of a given array along the second axis in NumPy?"
      ],
      "metadata": {
        "id": "iXoyrNGve-fu"
      }
    },
    {
      "cell_type": "code",
      "source": [
        "import numpy as np\n",
        "\n",
        "# Assuming arr is the array\n",
        "arr = np.random.rand(3, 5)\n",
        "\n",
        "mean_values = np.mean(arr, axis=1)\n",
        "std_deviation_values = np.std(arr, axis=1)\n",
        "variance_values = np.var(arr, axis=1)\n",
        "\n",
        "print(\"Mean along second axis:\", mean_values)\n",
        "print(\"Standard Deviation along second axis:\", std_deviation_values)\n",
        "print(\"Variance along second axis:\", variance_values)\n"
      ],
      "metadata": {
        "colab": {
          "base_uri": "https://localhost:8080/"
        },
        "id": "EUoUOQ3iZ3Oj",
        "outputId": "ae2fd28a-a1ae-430d-ed0b-b99d856a3347"
      },
      "execution_count": 9,
      "outputs": [
        {
          "output_type": "stream",
          "name": "stdout",
          "text": [
            "Mean along second axis: [0.55467687 0.43901813 0.47792876]\n",
            "Standard Deviation along second axis: [0.34874109 0.36351597 0.29486434]\n",
            "Variance along second axis: [0.12162034 0.13214386 0.08694498]\n"
          ]
        }
      ]
    }
  ]
}